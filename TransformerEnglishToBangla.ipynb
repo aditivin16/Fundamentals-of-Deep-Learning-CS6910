{
 "cells": [
  {
   "cell_type": "code",
   "execution_count": null,
   "id": "5c180afb",
   "metadata": {},
   "outputs": [],
   "source": [
    "import torch\n",
    "import torch.nn as nn\n",
    "import torch.optim as optim\n",
    "from torch.utils.data import Dataset, DataLoader\n",
    "import pandas as pd\n",
    "import numpy as np\n",
    "from tqdm import tqdm\n",
    "import nltk\n",
    "from nltk.translate.bleu_score import sentence_bleu, SmoothingFunction\n",
    "from transformers import AutoTokenizer\n",
    "import pickle\n",
    "import matplotlib.pyplot as plt\n",
    "import sacrebleu\n",
    "from nltk.tokenize.treebank import TreebankWordDetokenizer\n",
    "nltk.download('punkt')\n",
    "torch.backends.cudnn.benchmark = True\n",
    "device = torch.device('cuda' if torch.cuda.is_available() else 'cpu')"
   ]
  },
  {
   "cell_type": "code",
   "execution_count": null,
   "id": "4a18a8b2",
   "metadata": {},
   "outputs": [],
   "source": [
    "train_df = pd.read_csv('team11_bn_train.csv')\n",
    "val_df = pd.read_csv('team11_bn_valid.csv')\n",
    "test_df = pd.read_csv('team11_bn_test.csv')\n",
    "\n",
    "train_df.columns = ['source', 'target']\n",
    "val_df.columns = ['source', 'target']\n",
    "test_df.columns = ['source', 'target']"
   ]
  },
  {
   "cell_type": "code",
   "execution_count": null,
   "id": "426e965a",
   "metadata": {},
   "outputs": [],
   "source": [
    "from gensim.models import KeyedVectors\n",
    "glove = KeyedVectors.load_word2vec_format('glove.6B.100d.txt', binary=False, no_header=True)\n",
    "glove_dim = glove.vector_size\n",
    "indic_tokenizer = AutoTokenizer.from_pretrained('ai4bharat/indic-bert')\n"
   ]
  },
  {
   "cell_type": "code",
   "execution_count": null,
   "id": "18ad766d",
   "metadata": {},
   "outputs": [],
   "source": [
    "all_target_sentences = list(train_df['target']) + list(val_df['target']) + list(test_df['target'])\n",
    "all_tokens = set()\n",
    "for sentence in all_target_sentences:\n",
    "    tokens = indic_tokenizer.tokenize(sentence)\n",
    "    all_tokens.update(tokens)\n",
    "\n",
    "special_tokens = ['<pad>', '<sos>', '<eos>', '<unk>']\n",
    "token2idx = {token: idx + len(special_tokens) for idx, token in enumerate(sorted(all_tokens))}\n",
    "for idx, token in enumerate(special_tokens):\n",
    "    token2idx[token] = idx\n",
    "idx2token = {v: k for k, v in token2idx.items()}\n",
    "\n",
    "with open('token2idx.pkl', 'wb') as f:\n",
    "    pickle.dump(token2idx, f)"
   ]
  },
  {
   "cell_type": "code",
   "execution_count": null,
   "id": "f4981246",
   "metadata": {},
   "outputs": [],
   "source": [
    "def encode_english_sentence(sentence, max_len=30):\n",
    "    tokens = nltk.word_tokenize(sentence.lower())\n",
    "    vectors = []\n",
    "    for token in tokens:\n",
    "        if token in glove:\n",
    "            vectors.append(glove[token])\n",
    "        else:\n",
    "            vectors.append(np.random.normal(size=(glove_dim,)))\n",
    "    if len(vectors) < max_len:\n",
    "        vectors += [np.zeros(glove_dim)] * (max_len - len(vectors))\n",
    "    else:\n",
    "        vectors = vectors[:max_len]\n",
    "    return np.array(vectors)\n",
    "\n",
    "def encode_indic_sentence(sentence, max_len=30):\n",
    "    tokens = indic_tokenizer.tokenize(sentence)\n",
    "    indices = [token2idx.get('<sos>')] + [token2idx.get(token, token2idx['<unk>']) for token in tokens] + [token2idx.get('<eos>')]\n",
    "    if len(indices) < max_len:\n",
    "        indices += [token2idx.get('<pad>')] * (max_len - len(indices))\n",
    "    else:\n",
    "        indices = indices[:max_len]\n",
    "    return indices\n"
   ]
  },
  {
   "cell_type": "code",
   "execution_count": null,
   "id": "cbf35b6c",
   "metadata": {},
   "outputs": [],
   "source": [
    "class TranslationDataset(Dataset):\n",
    "    def __init__(self, df):\n",
    "        self.sources = df['source'].tolist()\n",
    "        self.targets = df['target'].tolist()\n",
    "\n",
    "    def __len__(self):\n",
    "        return len(self.sources)\n",
    "\n",
    "    def __getitem__(self, idx):\n",
    "        source = encode_english_sentence(self.sources[idx])\n",
    "        target = encode_indic_sentence(self.targets[idx])\n",
    "        return torch.tensor(source, dtype=torch.float32), torch.tensor(target, dtype=torch.long)\n",
    "\n",
    "train_dataset = TranslationDataset(train_df)\n",
    "val_dataset = TranslationDataset(val_df)\n",
    "test_dataset = TranslationDataset(test_df)\n",
    "\n",
    "train_loader = DataLoader(train_dataset, batch_size=10, shuffle=True)\n",
    "val_loader = DataLoader(val_dataset, batch_size=10)\n",
    "test_loader = DataLoader(test_dataset, batch_size=10)\n",
    "\n"
   ]
  },
  {
   "cell_type": "code",
   "execution_count": null,
   "id": "caf011db",
   "metadata": {},
   "outputs": [],
   "source": [
    "class TransformerMTModel(nn.Module):\n",
    "    def __init__(self, tgt_vocab_size, embed_dim=100, num_heads=10, num_encoder_layers=6, num_decoder_layers=6, dim_feedforward=512, max_len=100):\n",
    "        super().__init__()\n",
    "        self.embed_dim = embed_dim\n",
    "        self.max_len = max_len\n",
    "\n",
    "        self.encoder_layer = nn.TransformerEncoderLayer(d_model=embed_dim, nhead=num_heads, dim_feedforward=dim_feedforward)\n",
    "        self.encoder = nn.TransformerEncoder(self.encoder_layer, num_layers=num_encoder_layers)\n",
    "\n",
    "        self.tgt_embedding = nn.Embedding(tgt_vocab_size, embed_dim)\n",
    "        self.decoder_layer = nn.TransformerDecoderLayer(d_model=embed_dim, nhead=num_heads, dim_feedforward=dim_feedforward)\n",
    "        self.decoder = nn.TransformerDecoder(self.decoder_layer, num_layers=num_decoder_layers)\n",
    "\n",
    "        self.output_layer = nn.Linear(embed_dim, tgt_vocab_size)\n",
    "\n",
    "    def generate_square_subsequent_mask(self, sz):\n",
    "        # Generates causal mask for target to mask future tokens\n",
    "        mask = torch.triu(torch.ones(sz, sz), diagonal=1).bool()\n",
    "        return mask\n",
    "\n",
    "    def forward(self, src, tgt):\n",
    "        # src: [batch_size, src_len, embed_dim]\n",
    "        # tgt: [batch_size, tgt_len]\n",
    "        batch_size, src_len, _ = src.size()\n",
    "        tgt_len = tgt.size(1)\n",
    "\n",
    "        # Apply sinusoidal positional encoding\n",
    "        src_pe = get_sinusoidal_positional_encoding(src_len, self.embed_dim, src.device)  # [src_len, embed_dim]\n",
    "        tgt_pe = get_sinusoidal_positional_encoding(tgt_len, self.embed_dim, tgt.device)  # [tgt_len, embed_dim]\n",
    "\n",
    "        # Add PE (broadcast over batch)\n",
    "        src = src + src_pe.unsqueeze(0)  # [batch_size, src_len, embed_dim]\n",
    "        tgt_emb = self.tgt_embedding(tgt) + tgt_pe.unsqueeze(0)  # [batch_size, tgt_len, embed_dim]\n",
    "\n",
    "        # Transformer expects [seq_len, batch_size, embed_dim]\n",
    "        src = src.permute(1, 0, 2)\n",
    "        tgt_emb = tgt_emb.permute(1, 0, 2)\n",
    "\n",
    "        memory = self.encoder(src)\n",
    "        # Generate causal mask for decoder\n",
    "        tgt_mask = self.generate_square_subsequent_mask(tgt_len).to(tgt.device)\n",
    "\n",
    "        # Pass mask to decoder to mask future tokens\n",
    "        output = self.decoder(tgt_emb, memory, tgt_mask=tgt_mask)\n",
    "        output = self.output_layer(output)\n",
    "        return output.permute(1, 0, 2)\n",
    "\n",
    "model = TransformerMTModel(tgt_vocab_size=len(token2idx)).to(device)"
   ]
  },
  {
   "cell_type": "code",
   "execution_count": null,
   "id": "9dd9dc3b",
   "metadata": {},
   "outputs": [],
   "source": [
    "criterion = nn.CrossEntropyLoss(ignore_index=token2idx['<pad>'])\n",
    "optimizer = optim.Adam(model.parameters(), lr=1e-4)\n",
    "from torch.amp import autocast, GradScaler\n",
    "scaler = GradScaler()\n",
    "epochs = 10\n",
    "train_losses, val_losses = [], []\n",
    "\n",
    "for epoch in range(epochs):\n",
    "    model.train()\n",
    "    epoch_loss = 0\n",
    "    for src, tgt in tqdm(train_loader, desc=f\"Training Epoch {epoch+1}\"):\n",
    "        src, tgt = src.to(device), tgt.to(device)\n",
    "        tgt_input = tgt[:, :-1]\n",
    "        tgt_output = tgt[:, 1:]\n",
    "\n",
    "        optimizer.zero_grad()\n",
    "        with autocast('cuda'):\n",
    "            preds = model(src, tgt_input)\n",
    "            preds = preds.reshape(-1, preds.shape[-1])\n",
    "            tgt_output = tgt_output.reshape(-1)\n",
    "            loss = criterion(preds, tgt_output)\n",
    "\n",
    "        scaler.scale(loss).backward()\n",
    "        scaler.step(optimizer)\n",
    "        scaler.update()\n",
    "        epoch_loss += loss.item()\n",
    "\n",
    "    avg_train_loss = epoch_loss / len(train_loader)\n",
    "    train_losses.append(avg_train_loss)\n",
    "    print(f\"Epoch {epoch+1} Train Loss: {avg_train_loss:.4f}\")\n",
    "\n",
    "    # Validation loss\n",
    "    model.eval()\n",
    "    val_loss = 0\n",
    "    with torch.no_grad():\n",
    "        for src, tgt in val_loader:\n",
    "            src, tgt = src.to(device), tgt.to(device)\n",
    "            tgt_input = tgt[:, :-1]\n",
    "            tgt_output = tgt[:, 1:]\n",
    "            with autocast('cuda'):\n",
    "                preds = model(src, tgt_input)\n",
    "                preds = preds.reshape(-1, preds.shape[-1])\n",
    "                tgt_output = tgt_output.reshape(-1)\n",
    "                loss = criterion(preds, tgt_output)\n",
    "            val_loss += loss.item()\n",
    "    avg_val_loss = val_loss / len(val_loader)\n",
    "    val_losses.append(avg_val_loss)\n",
    "    print(f\"Epoch {epoch+1} Val Loss: {avg_val_loss:.4f}\")\n",
    "\n"
   ]
  },
  {
   "cell_type": "code",
   "execution_count": null,
   "id": "c06d1ea6",
   "metadata": {},
   "outputs": [],
   "source": [
    "detok = TreebankWordDetokenizer()\n",
    "\n",
    "\n",
    "def calculate_bleu_scores(model, dataloader, name=\"Test\"):\n",
    "    model.eval()\n",
    "    all_references = []\n",
    "    all_predictions = []\n",
    "    examples = []\n",
    "\n",
    "    with torch.no_grad():\n",
    "        for src, tgt in tqdm(dataloader, desc=f\"Evaluating {name}\"):\n",
    "            src, tgt = src.to(device), tgt.to(device)\n",
    "            tgt_input = tgt[:, :-1]\n",
    "\n",
    "            # Get predictions\n",
    "            preds = model(src, tgt_input).argmax(-1)\n",
    "\n",
    "            for pred_seq, true_seq in zip(preds, tgt):\n",
    "                pred_tokens = []\n",
    "                for idx in pred_seq:\n",
    "                    token = idx2token.get(idx.item(), '<unk>')\n",
    "                    if token == '<eos>':\n",
    "                        break\n",
    "                    if token != '<pad>':\n",
    "                        pred_tokens.append(token)\n",
    "\n",
    "                true_tokens = []\n",
    "                for idx in true_seq:\n",
    "                    token = idx2token.get(idx.item(), '<unk>')\n",
    "                    if token in ['<pad>', '<sos>', '<eos>']:\n",
    "                        continue\n",
    "                    true_tokens.append(token)\n",
    "\n",
    "                # Detokenize and replace underscores with spaces\n",
    "                pred_sentence = detok.detokenize(pred_tokens).replace('▁', ' ').strip()\n",
    "                true_sentence = detok.detokenize(true_tokens).replace('▁', ' ').strip()\n",
    "\n",
    "                all_predictions.append(pred_sentence)\n",
    "                all_references.append([true_sentence])\n",
    "                examples.append((pred_sentence, true_sentence))\n",
    "\n",
    "    bleu = sacrebleu.corpus_bleu(all_predictions, all_references)\n",
    "\n",
    "    print(f\"{name} Corpus BLEU score: {bleu.score:.2f}\")\n",
    "    print(\"BLEU-1:\", bleu.precisions[0])\n",
    "    print(\"BLEU-2:\", bleu.precisions[1])\n",
    "    print(\"BLEU-3:\", bleu.precisions[2])\n",
    "    print(\"BLEU-4:\", bleu.precisions[3])\n",
    "\n",
    "    print(f\"\\n{name} Sample Predictions:\")\n",
    "    for i in range(25):\n",
    "        print(f\"Source: {detok.detokenize(nltk.word_tokenize(dataloader.dataset.sources[i]))}\")\n",
    "        print(f\"Target: {examples[i][1]}\")\n",
    "        print(f\"Predicted: {examples[i][0]}\\n\")\n",
    "\n",
    "    return bleu.score"
   ]
  },
  {
   "cell_type": "code",
   "execution_count": null,
   "id": "862eb4a5",
   "metadata": {},
   "outputs": [],
   "source": [
    "test_bleu = calculate_bleu_scores(model, test_loader, \"Test\")\n",
    "val_bleu = calculate_bleu_scores(model, val_loader, \"Validation\")\n",
    "\n",
    "plt.figure(figsize=(10, 5))\n",
    "plt.plot(train_losses, label='Train Loss')\n",
    "plt.plot(val_losses, label='Validation Loss')\n",
    "plt.title('Losses over Epochs')\n",
    "plt.xlabel('Epoch')\n",
    "plt.ylabel('Loss')\n",
    "plt.legend()\n",
    "plt.grid()\n",
    "plt.show()"
   ]
  },
  {
   "cell_type": "code",
   "execution_count": null,
   "id": "03e0a350",
   "metadata": {},
   "outputs": [
    {
     "name": "stderr",
     "output_type": "stream",
     "text": [
      "[nltk_data] Downloading package punkt to C:\\Users\\Ashwin\n",
      "[nltk_data]     Kilingar\\AppData\\Roaming\\nltk_data...\n",
      "[nltk_data]   Package punkt is already up-to-date!\n",
      "c:\\Users\\Ashwin Kilingar\\AppData\\Local\\Programs\\python\\python312\\Lib\\site-packages\\torch\\nn\\modules\\transformer.py:379: UserWarning: enable_nested_tensor is True, but self.use_nested_tensor is False because encoder_layer.self_attn.batch_first was not True(use batch_first for better inference performance)\n",
      "  warnings.warn(\n",
      "Training Epoch 1: 100%|██████████| 7000/7000 [08:38<00:00, 13.51it/s]\n"
     ]
    },
    {
     "name": "stdout",
     "output_type": "stream",
     "text": [
      "Epoch 1 Train Loss: 4.2008\n",
      "Epoch 1 Val Loss: 3.4868\n"
     ]
    },
    {
     "name": "stderr",
     "output_type": "stream",
     "text": [
      "Training Epoch 2: 100%|██████████| 7000/7000 [07:16<00:00, 16.03it/s]\n"
     ]
    },
    {
     "name": "stdout",
     "output_type": "stream",
     "text": [
      "Epoch 2 Train Loss: 3.3398\n",
      "Epoch 2 Val Loss: 3.0765\n"
     ]
    },
    {
     "name": "stderr",
     "output_type": "stream",
     "text": [
      "Training Epoch 3: 100%|██████████| 7000/7000 [08:43<00:00, 13.36it/s]\n"
     ]
    },
    {
     "name": "stdout",
     "output_type": "stream",
     "text": [
      "Epoch 3 Train Loss: 3.0232\n",
      "Epoch 3 Val Loss: 2.8395\n"
     ]
    },
    {
     "name": "stderr",
     "output_type": "stream",
     "text": [
      "Training Epoch 4: 100%|██████████| 7000/7000 [10:24<00:00, 11.22it/s]\n"
     ]
    },
    {
     "name": "stdout",
     "output_type": "stream",
     "text": [
      "Epoch 4 Train Loss: 2.8211\n",
      "Epoch 4 Val Loss: 2.6691\n"
     ]
    },
    {
     "name": "stderr",
     "output_type": "stream",
     "text": [
      "Training Epoch 5: 100%|██████████| 7000/7000 [08:35<00:00, 13.57it/s]\n"
     ]
    },
    {
     "name": "stdout",
     "output_type": "stream",
     "text": [
      "Epoch 5 Train Loss: 2.6791\n",
      "Epoch 5 Val Loss: 2.5510\n"
     ]
    },
    {
     "name": "stderr",
     "output_type": "stream",
     "text": [
      "Training Epoch 6: 100%|██████████| 7000/7000 [08:17<00:00, 14.08it/s]\n"
     ]
    },
    {
     "name": "stdout",
     "output_type": "stream",
     "text": [
      "Epoch 6 Train Loss: 2.5691\n",
      "Epoch 6 Val Loss: 2.4673\n"
     ]
    },
    {
     "name": "stderr",
     "output_type": "stream",
     "text": [
      "Training Epoch 7: 100%|██████████| 7000/7000 [08:07<00:00, 14.36it/s]\n"
     ]
    },
    {
     "name": "stdout",
     "output_type": "stream",
     "text": [
      "Epoch 7 Train Loss: 2.4855\n",
      "Epoch 7 Val Loss: 2.4030\n"
     ]
    },
    {
     "name": "stderr",
     "output_type": "stream",
     "text": [
      "Training Epoch 8: 100%|██████████| 7000/7000 [07:58<00:00, 14.63it/s]\n"
     ]
    },
    {
     "name": "stdout",
     "output_type": "stream",
     "text": [
      "Epoch 8 Train Loss: 2.4190\n",
      "Epoch 8 Val Loss: 2.3529\n"
     ]
    },
    {
     "name": "stderr",
     "output_type": "stream",
     "text": [
      "Training Epoch 9: 100%|██████████| 7000/7000 [08:04<00:00, 14.43it/s]\n"
     ]
    },
    {
     "name": "stdout",
     "output_type": "stream",
     "text": [
      "Epoch 9 Train Loss: 2.3609\n",
      "Epoch 9 Val Loss: 2.3091\n"
     ]
    },
    {
     "name": "stderr",
     "output_type": "stream",
     "text": [
      "Training Epoch 10: 100%|██████████| 7000/7000 [07:57<00:00, 14.66it/s]\n"
     ]
    },
    {
     "name": "stdout",
     "output_type": "stream",
     "text": [
      "Epoch 10 Train Loss: 2.3118\n",
      "Epoch 10 Val Loss: 2.2781\n"
     ]
    },
    {
     "name": "stderr",
     "output_type": "stream",
     "text": [
      "Evaluating Test: 100%|██████████| 1000/1000 [00:33<00:00, 30.00it/s]\n"
     ]
    },
    {
     "name": "stdout",
     "output_type": "stream",
     "text": [
      "Test Corpus BLEU score: 35.36\n",
      "BLEU-1: 85.71428571428571\n",
      "BLEU-2: 74.07407407407408\n",
      "BLEU-3: 30.76923076923077\n",
      "BLEU-4: 8.0\n",
      "\n",
      "Test Sample Predictions:\n",
      "Source: People ran out of their houses in panic despite severe cold condition.\n",
      "Target: পর চ ণ ড  ঠ ণ ডর  ম ধ য ও  ঘর ব ড  ছ ড  রস ত য  বর য  আসন  ভ য রত  লক জন ।\n",
      "Predicted: বর ণ ণ ড য ণ ড  ম ধ য । য ব য য ড য ত  ভ । ড । । ড ।  ভ ড য\n",
      "\n",
      "Source: Trump in India\n",
      "Target: ভরত  বত র ক  উস ক  দল ন  ট রম প\n",
      "Predicted: ভরত ক র ক  দল ক  দল ন\n",
      "\n",
      "Source: We got it.\n",
      "Target: পল ম  আম র ।\n",
      "Predicted: আম ম । র  পল\n",
      "\n",
      "Source: Two juveniles were also apprehended.\n",
      "Target: আটক  কর  হ য ছ   দই  নব লক  ছ তর ক ও ।\n",
      "Predicted: কর  হ য ছ । দই  আটক লক  আটক তর ক  আটক  আটক\n",
      "\n",
      "Source: Ministry of Panchayati Raj Local administrations at district and village levels continue taking various measures to check the spread of the COVID-19 pandemic in the country Measures include preliminary testing of local people creating checkposts for medical screening of persons entering and leaving the area regular sanitization of public places and creating quarantine centres regular inspection of procurement centres Local administrations at district and village levels continue taking various measures to check the spread of the COVID-19 pandemic in the country.\n",
      "Target: প ঞ চ যত র জম নত র ক  দশ  ক ভ ড - ১৯  বশ ব ব য প  মহ ম র  স ক রমণ  পর তর ধ\n",
      "Predicted: দশ ড চ যত ব  পর ব র  পর রমণ র ভ ম - ১৯  দশ ব ব ব ক - ম র  পর ভ রমণ র ব ক\n",
      "\n",
      "Source: Celebrations are going on throughout the country.\n",
      "Target: সর দশ ই  উৎসব র  পর স থ ত  বর জ  কর ।\n",
      "Predicted: পর জ র  কর র  কর স থ ত  কর জ  কর ।\n",
      "\n",
      "Source: I am shocked at the incident.\n",
      "Target: আম   ঘটন র  আ কসম কত য  হত বক  হ য  য ই  ।\n",
      "Predicted: আম র ঘটন য  হত বদল বক  হ  ।  ।  হত য  । বক  ।\n",
      "\n",
      "Source: It is not clear how the blast took place.\n",
      "Target: তন  বল ন,  “ আগ ন  ক  ভব  ছ ড য ছ  ত  ব ঝ  য চ ছ  ন ।\n",
      "Predicted: তন  বল ন,  “ আপ ল, ছ  ছ ড  য  য  ছ  ছ ঝ  য চ ছ  ছ ।\n",
      "\n",
      "Source: The families stranded in the flats of another building were told to keep their doors and windows shut.\n",
      "Target: ওই  ভবন র  অন য ন য  ফল য ট  য  পর বর গল  আটক  প ড ছ,  তদ র  দর জ - জন ল  বন ধ  কর\n",
      "Predicted: ওই  অন গল  বন য ন, ন গল ন  বন গল বর গল  বন গল ড গল,  তদ র  বন জ গল জন গল গল ধ গল\n",
      "\n",
      "Source: \"\"\" Schemes such as Seekho aur Kamao, Ustaad, Garib Nawaz Kaushal Vikas Yojana, NaiManzil, Nai Roshni, Begum Hazrat Mahal Girls scholarships etc have proved to be the guarantee of empowerment of Minorities especially girls .\" \"\"\n",
      "Target: \" \" \" সখ য ল ঘ  মন ষ র,  বশ ষ  কর  বল ক দর  সন শ চত  কষ মত য ন র  লক ষ য  গহ\n",
      "Predicted: \" \" \" \" য ন য য ষ য  মন  মন ষ য ন ন ষ  শক য ষ র মত র ন,  মন ষ য ন\n",
      "\n",
      "Source: Just, without one of these.\n",
      "Target: শ ধ  এই  এক  ছ ড.\n",
      "Predicted: এই ধ  এক  ছ ধ ড.\n",
      "\n",
      "Source: He played many stage dramas.\n",
      "Target: অভ ন য  করছ ন  সমন সখ য ক  নট ক ।\n",
      "Predicted: নট ন  অভ ক ন  অভ  অভ য ক  অভ ক  অভ\n",
      "\n",
      "Source: My father was a musician.\n",
      "Target: বব ও  ছল ন  স গত ন রগ ।\n",
      "Predicted: বব ও  বব ন । গত  বব । ও\n",
      "\n",
      "Source: He was finally cured.\n",
      "Target: অব শ ষ  সই ট ও  সর  ফল লন  তন ।\n",
      "Predicted: সই শ ষ ট  ফল  সর  সর ট লন ।  সই\n",
      "\n",
      "Source: The film was directed by Sam Raimi.\n",
      "Target: এই  সন ম র  পর চল ক  ছল ন  শ যম  রম জ ।\n",
      "Predicted: এই  পর ম । । চল ক । ন । যম  রম ন ।\n",
      "\n",
      "Source: The accused being taken to court\n",
      "Target: আদ লত  আন  হ চ ছ  আস মদ র\n",
      "Predicted: আদ লত  আন  হ চ ছ\n",
      "\n",
      "Source: Do you truly fear God and give him glory in all such ways?\n",
      "Target: আপন  ক  সত য ই  ঈশ বর ক  ভ য  কর ন  এব  এই  সম স ত  উপ য  তক  গর ব  পর দন  কর ন?\n",
      "Predicted: আপন  ক  কর য  কর  তক বর ক  উপ ই  কর ন?  তক  সম স ত ব স  কর  উপ ত  কর ত  কর ন?\n",
      "\n",
      "Source: When you feel physically and emotionally drained, then, do not cut yourself off from Jehovah.\n",
      "Target: তই,  আপন  যখন  শর র ক  ও  আব গ গত ভব  কল নত  হ য  প ডন,  তখন  য হ বর  ক ছ  থ ক  দর\n",
      "Predicted: তখন তই,  তখন ক  আব  হ  ক,  আব গ ক ভব, নত ক য নত ডন,  তখন  ও হ বর ক ছ, ক,\n",
      "\n",
      "Source: A slight mistake can be very dangerous.\n",
      "Target: ছট  ভল  করল  তর  ফল  ভ য বহ  হত  পর ।\n",
      "Predicted: তর ছট  করল  করল ।  হত  করল য  করল  করল  পর বহ\n",
      "\n",
      "Source: The two physicians, Kamira and Arash Alaie, are brothers, and have pioneered educational and harm reduction campaigns among drug users, prostitutes, and prison inmates in Iran and throughout the Middle East . They were arrested last month, and have had no legal representation.\n",
      "Target: এই   দই  ডক তর,  কম র  আর  আর শ  আল ই   দই  ভ ই  এব  তদ র ক  গত  মস  গর পত র  কর  জল  স\n",
      "Predicted: আর   দই  আর তর    আর র  গর  গর  গর  কর ক র দই  আর ই র  গর র  গর  গর   ই পত র  গর, ই\n",
      "\n",
      "Source: But that didnt matter to him.\n",
      "Target: কন ত  তর  ম ঝ  সই  চনত ই  ছল  ন ।\n",
      "Predicted: কন ত  তর  ম ঝ  ম  চনত  ছল  ছল  ন ।\n",
      "\n",
      "Source: \"Paramount dubbed the 65 (1.96 m) actor \"\" The Most Beautiful Man in the Movies\" \" and \"\" The Beautiful Blond Viking God .\" \"\"\n",
      "Target: প য রম উন ট  প কচ রস  এই  ৬  ফট  ৫  ই ঞ চ   লম ব  অভ নত ক  “ চল চ চত র র  সব চ\n",
      "Predicted: এই য  প য ট  প য  প ট  প  প বল  প ঞ চল চত কচ ব  প নত  প  প অ ক চত র  প  প চ\n",
      "\n",
      "Source: It didn't happen in the end.\n",
      "Target: শ ষ  পর য নত  হ য  উঠল  ন ।\n",
      "Predicted: শ ষ  হ য নত  হ য নত  হ ।\n",
      "\n",
      "Source: TOTAL 933,631 Baptized: 2,221\n",
      "Target: মট  ১৯, ৮৫ ৩  ব পত সম ত:  ৩৬\n",
      "Predicted: ব ত ৯০  ব\n",
      "\n",
      "Source: (Acts 20:28) When we loyally support those appointed to take the lead, we express our appreciation to Jehovah and Jesus for all that they have done for us.\n",
      "Target: (পর রত  ২০: ২৮)  য র  নত ত ব  দ চ ছ,  তদ র ক  আম র  যখন  অন গত ভব  সমর থন  কর,\n",
      "Predicted: (গত রত  দ) ২৯  কর  তদ র  দ গত ব পর চ ছ,  য র  দ  দ র  দ  তদ ক ভব  দ থন  কর,\n",
      "\n"
     ]
    },
    {
     "name": "stderr",
     "output_type": "stream",
     "text": [
      "Evaluating Validation: 100%|██████████| 2000/2000 [01:06<00:00, 30.17it/s]\n"
     ]
    },
    {
     "name": "stdout",
     "output_type": "stream",
     "text": [
      "Validation Corpus BLEU score: 0.00\n",
      "BLEU-1: 100.0\n",
      "BLEU-2: 0.0\n",
      "BLEU-3: 0.0\n",
      "BLEU-4: 0.0\n",
      "\n",
      "Validation Sample Predictions:\n",
      "Source: A Game of Thrones\n",
      "Target: আ  গম  অব   থর নস\n",
      "Predicted: থর\n",
      "\n",
      "Source: BJP celebrates Narendra Modi's birthday\n",
      "Target: next  ঘ ড   উড য  পর ধন মন তর  নর ন দর  মদ র  জনম দন  পল ন  করব  বজ প\n",
      "Predicted: মদ র ণ\n",
      "\n",
      "Source: Both the appeals were dismissed.\n",
      "Target: দ ’ ট  আপ ল ই  খর জ  হ য  য য ।\n",
      "Predicted: য ’ ট ই ল  দ  দ জ  দ য । য ।\n",
      "\n",
      "Source: The police arrested Babloo later.\n",
      "Target: এর  পরই  পল শ  বব লক  গ রফত র  কর ।\n",
      "Predicted: এর  পরই  পল শ ।  পল  পল রফত র  কর  পল\n",
      "\n",
      "Source: But he isnt worried.\n",
      "Target: তব  তন  শ ঙ কম কত  ন য ।\n",
      "Predicted: তব  শ । ঙ কত  ন  ন য ।\n",
      "\n",
      "Source: So, we have taken the same dimension 3 centimetre 4 centimetre, x y are same, but now there are 2 feed 1 and 2 . So, you can actually see the response, this response is almost similar to the previous case here.\n",
      "Target: সত র, আম র  একই  মত র ট  3  সম, 4  সন টম টর, এক স  ও য ই  সমন  গর হণ  করছ  তব  এখন  2\n",
      "Predicted: তব র,  একই র,  সম,,  গর, স  একই ট টর টর,  একই ট টর  গর,  এই র হণ  করছ,,,\n",
      "\n",
      "Source: We don't see you on the big screen much anymore.\n",
      "Target: ব ড  পর দ য  আর  দ খ  নই ।\n",
      "Predicted: আর ড য  নই  আর  আর  ব খ  নই ।\n",
      "\n",
      "Source: Separate meetings had been held with the representatives.\n",
      "Target: ড ফ ন ডর দর  ন য  আল দ ভব  মট  কর  হ য ছ ।\n",
      "Predicted: আল ফ ন  হ  ড  আল য ছ দ  কর  হ ন  হ য ছ ।\n",
      "\n",
      "Source: Saindak is also regional headquarters of Pakistan Frontier Corps.\n",
      "Target: রও য ল পন ড  হ চ ছ  প কস তন র  সমর ক  বহন র  কন দর য  সদর  দ পত র ।\n",
      "Predicted: দ য ছ য র য চ ছ । কস তন র ল ক পত র ল দর য ছ  হ ক র ল\n",
      "\n",
      "Source: We do not need it.\n",
      "Target: আম দর  তম ন  কন  চ হ দ  নই ।\n",
      "Predicted: আম দর  কন ন দ  আম হ  নই  তম ।\n",
      "\n",
      "Source: Yeah, just let me know if we're making too much noise.\n",
      "Target: আর  হ য,  আম র  বশ  হ চ  করল  জন ব  কন ত ।\n",
      "Predicted: আর  বশ য  আর  আর র  হ ব য  করল,  হ  হ ত  হ\n",
      "\n",
      "Source: The village has a public house named after him and is just a few miles from Hambledon, home of the famous Hambledon Cricket Club.\n",
      "Target: ঐ  এল ক য  এক ট  ব ডর  নম করণ  তর  নম   র খ  আছ  য  বখ যত  হ যম বল ডন  কর কট  কল ব  থ ক\n",
      "Predicted: তর  তর ক  তর  তর ট  তর ডর  তর  হ  হ খ  হ র খ  হ  তর  তর যত   য খ  তর  তর কট  তর কট  তর ক\n",
      "\n",
      "Source: He asked me to go.\n",
      "Target: আম ক  যত  বলল ।\n",
      "Predicted: আম ক  যত ।  যত\n",
      "\n",
      "Source: I can say one thing.\n",
      "Target: এক ট  জন স  বলত  পর ।\n",
      "Predicted: জন ট  জন স  বলত  পর ।\n",
      "\n",
      "Source: Seccomp-BPF (System Call Filtering)\n",
      "Target: sec com p - bp f  (স স টম  কল  ফল টর)\n",
      "Predicted: কল স)  (স স) স টর টর) স স স\n",
      "\n",
      "Source: Who doesnt!\n",
      "Target: কর র  স ঙ গ  ন!\n",
      "Predicted: কর  ন  স ঙ গ  কর!\n",
      "\n",
      "Source: Although the Cairo metropolis extends away from the Nile in all directions, the city of Cairo resides only on the east bank of the river and two islands within it on a total area of 453 square kilometres (175 sq mi).\n",
      "Target: য দ ও  ক য র  মহ নগর ট  নল  নদ  থ ক  চর  দ ক  অন ক  দর  বসত ত   র য ছ,  কবল  নদ র\n",
      "Predicted: নদ দ ও য ছ ছ  নদ নগর,  নদ  নদ র ক  নদ দ ও  নদ ক  নদ ত ত  নদ র  নদ ছ  নদ  নদ  নদ র\n",
      "\n",
      "Source: Official: Not at all.\n",
      "Target: গম ভর:  একদম  ন ।\n",
      "Predicted: একদম ভর  ন  একদম  ন ।\n",
      "\n",
      "Source: It contributes 7.92% of the Brahmaputra's total flow.\n",
      "Target: এ ট  বর হ ম পত র র  জল র শ র  ৭ . ৯২%  জল র  য গন  দ য ।\n",
      "Predicted: জল ট  জল হ ম র র  জল  জল র  জল ম  জল . ৫ . । র  জল র র য র\n",
      "\n",
      "Source: The NAB also has collected a large number of records from the National Board of Revenue, and the entire collections of the defunct national daily, The Dainik Bangla, which include newspapers, journals and various magazines of the years from 1950 to 1990.\n",
      "Target: ন যব  স গর হ শ ল য  আরও  আছ  জ ত য  রজ সব  বর ড  এ  এর  পর ন  বহ  নথ পত র  এব  ১৯ ৫০  সল\n",
      "Predicted: এ য ন পত হ শ ল য ল  জ ন ত য ল য র হ য  ন  পর ত য ত ল হ ল  এ ৯০  এর\n",
      "\n",
      "Source: Cholesterol is a chemical compound which is required by the body as a building block to create the outer layer of the cells and for hormones like estrogen and testosterone as well.\n",
      "Target: য ন  হর মন,  যম ন n  এস টর জন  ও  টস টস টর ন  ছ ড ও  জব ন  রক ষক র  কর টস ল  হর মন\n",
      "Predicted: যম ন টর ন টর  যম ন টর  ও  যম ল  কর  যম টর  ও ল টর ড ও, ন টর ষক র  ছ ন  ও  ও ন\n",
      "\n",
      "Source: You should not be here.\n",
      "Target: তম র  এখন  থ ক  উচ ত  ন.\n",
      "Predicted: তম র  উচ  থ ক  উচ ত  থ.\n",
      "\n",
      "Source: There was no expression on her face.\n",
      "Target: কন  রকম  উত ত জন র  পর ক শ  নই  ওর  চ হর য ।\n",
      "Predicted: কন  উত  চ ত  চ  নই  চ য শ হর ।  উত হর  নই জন\n",
      "\n",
      "Source: I dont want to name them.\n",
      "Target: তদ র  নম  বলত  চ ই  ন ।\n",
      "Predicted: তদ র  নম  বলত  চ ই  ন ।\n",
      "\n",
      "Source: Another Indian arrested in Pakistan\n",
      "Target: রজ ব ড ত  গর পত র  আর  এক  ভরত য\n",
      "Predicted: আর য ড ত ব পত র\n",
      "\n"
     ]
    },
    {
     "data": {
      "image/png": "[encoded data removed]",
      "text/plain": [
       "<Figure size 1000x500 with 1 Axes>"
      ]
     },
     "metadata": {},
     "output_type": "display_data"
    },
    {
     "name": "stdout",
     "output_type": "stream",
     "text": [
      "Model and training state saved to 'transformer_mt_checkpoint.pth'\n"
     ]
    }
   ],
   "source": []
  },
  {
   "cell_type": "code",
   "execution_count": null,
   "id": "6a7aa591",
   "metadata": {},
   "outputs": [],
   "source": [
    "# Load model\n",
    "checkpoint = torch.load('transformer_mt_checkpoint.pth', map_location=device)\n",
    "model.load_state_dict(checkpoint['model_state_dict'])\n",
    "optimizer.load_state_dict(checkpoint['optimizer_state_dict'])\n"
   ]
  },
  {
   "cell_type": "code",
   "execution_count": null,
   "id": "727272fd",
   "metadata": {},
   "outputs": [],
   "source": []
  }
 ],
 "metadata": {
  "kernelspec": {
   "display_name": "Python 3",
   "language": "python",
   "name": "python3"
  },
  "language_info": {
   "codemirror_mode": {
    "name": "ipython",
    "version": 3
   },
   "file_extension": ".py",
   "mimetype": "text/x-python",
   "name": "python",
   "nbconvert_exporter": "python",
   "pygments_lexer": "ipython3",
   "version": "3.12.1"
  }
 },
 "nbformat": 4,
 "nbformat_minor": 5
}

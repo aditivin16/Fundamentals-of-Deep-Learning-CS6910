{
  "nbformat": 4,
  "nbformat_minor": 0,
  "metadata": {
    "colab": {
      "provenance": []
    },
    "kernelspec": {
      "name": "python3",
      "display_name": "Python 3"
    },
    "language_info": {
      "name": "python"
    }
  },
  "cells": [
    {
      "cell_type": "code",
      "execution_count": null,
      "metadata": {
        "id": "UVBxH1dXqIyc"
      },
      "outputs": [],
      "source": [
        "import pandas as pd\n",
        "import numpy as np\n",
        "import re\n",
        "from sklearn.preprocessing import LabelEncoder  # For label encoding\n",
        "from tensorflow.keras.preprocessing.text import Tokenizer\n",
        "from tensorflow.keras.preprocessing.sequence import pad_sequences\n",
        "from tensorflow.keras.models import Sequential\n",
        "from tensorflow.keras.layers import Embedding, SimpleRNN, Dense\n",
        "from tensorflow.keras.optimizers import Adam\n",
        "from google.colab import drive"
      ]
    },
    {
      "cell_type": "code",
      "source": [
        "drive.mount('/content/drive')"
      ],
      "metadata": {
        "colab": {
          "base_uri": "https://localhost:8080/"
        },
        "id": "Jw2x8tLjr92-",
        "outputId": "2f7e73fc-4fbb-4e6e-eb25-ac18a0ac9634"
      },
      "execution_count": null,
      "outputs": [
        {
          "output_type": "stream",
          "name": "stdout",
          "text": [
            "Drive already mounted at /content/drive; to attempt to forcibly remount, call drive.mount(\"/content/drive\", force_remount=True).\n"
          ]
        }
      ]
    },
    {
      "cell_type": "code",
      "source": [
        "df_ip_train = pd.read_csv(\"/content/drive/MyDrive/Sentiment_data/train.csv\")\n",
        "print(df_ip_train.shape)"
      ],
      "metadata": {
        "id": "BkBnFGIGsu3z",
        "colab": {
          "base_uri": "https://localhost:8080/"
        },
        "outputId": "4b4c794e-e603-4621-d3d7-8448c6e4e64f"
      },
      "execution_count": null,
      "outputs": [
        {
          "output_type": "stream",
          "name": "stdout",
          "text": [
            "(5600, 3)\n"
          ]
        }
      ]
    },
    {
      "cell_type": "code",
      "source": [
        "# Part of preprocessing :  clean the tweets\n",
        "def clean_text(text):\n",
        "    text = re.sub(r'http\\S+', '', text)  # Remove URLs\n",
        "    text = re.sub(r'@\\w+', '', text)  # Remove mentions\n",
        "    text = re.sub(r'[^a-zA-Z\\s]', '', text)  # Remove non-alphabetical characters\n",
        "    text = re.sub(r'#\\w+', '', text) # remove hashtags\n",
        "    text = text.lower()  # Convert to lowercase\n",
        "    return text"
      ],
      "metadata": {
        "id": "-_XiwWeqs4rD"
      },
      "execution_count": null,
      "outputs": []
    },
    {
      "cell_type": "code",
      "source": [
        "tokens = df_ip_train['tweet'].values\n",
        "tokens = [clean_text(token) for token in tokens]\n",
        "tokenizer = Tokenizer()\n",
        "tokenizer.fit_on_texts(tokens)\n",
        "word_index = tokenizer.word_index"
      ],
      "metadata": {
        "id": "QcnQeOuw4DTW"
      },
      "execution_count": null,
      "outputs": []
    },
    {
      "cell_type": "code",
      "source": [
        "# function to preprocess input data\n",
        "def preprocess(df):\n",
        "  tweets = df['tweet'].values\n",
        "  sentiments = df['sentiment'].values\n",
        "\n",
        "  # Convert the string sentiments to integers using LabelEncoder\n",
        "  encoder = LabelEncoder()\n",
        "  desired_op = encoder.fit_transform(sentiments)  # This will convert \"positive\" to 1 and \"negative\" to 0\n",
        "\n",
        "\n",
        "  tweets = [clean_text(tweet) for tweet in tweets]\n",
        "\n",
        "  # Tokenize the text data\n",
        "  sequences = tokenizer.texts_to_sequences(tweets)\n",
        "\n",
        "  # Pad the sequences to ensure uniform length\n",
        "  max_sequence_length = 100\n",
        "  input = pad_sequences(sequences, maxlen=max_sequence_length)\n",
        "  return input, desired_op"
      ],
      "metadata": {
        "id": "Pyuwn9ufqRUl"
      },
      "execution_count": null,
      "outputs": []
    },
    {
      "cell_type": "code",
      "source": [
        "# get GloVe\n",
        "!wget https://downloads.cs.stanford.edu/nlp/data/glove.6B.zip\n",
        "!unzip -q glove.6B.zip"
      ],
      "metadata": {
        "colab": {
          "base_uri": "https://localhost:8080/"
        },
        "id": "5OETHP0Ir1Gb",
        "outputId": "ef541a8e-bb21-435e-9295-078137c7e5f2"
      },
      "execution_count": null,
      "outputs": [
        {
          "output_type": "stream",
          "name": "stdout",
          "text": [
            "--2025-04-23 07:10:20--  https://downloads.cs.stanford.edu/nlp/data/glove.6B.zip\n",
            "Resolving downloads.cs.stanford.edu (downloads.cs.stanford.edu)... 171.64.64.22\n",
            "Connecting to downloads.cs.stanford.edu (downloads.cs.stanford.edu)|171.64.64.22|:443... connected.\n",
            "HTTP request sent, awaiting response... 200 OK\n",
            "Length: 862182613 (822M) [application/zip]\n",
            "Saving to: ‘glove.6B.zip’\n",
            "\n",
            "glove.6B.zip        100%[===================>] 822.24M  5.02MB/s    in 2m 39s  \n",
            "\n",
            "2025-04-23 07:12:59 (5.18 MB/s) - ‘glove.6B.zip’ saved [862182613/862182613]\n",
            "\n"
          ]
        }
      ]
    },
    {
      "cell_type": "code",
      "source": [
        "embedding_dim = 200  # GloVe 200D embeddings\n",
        "embeddings_index = {}\n",
        "\n",
        "# Read the GloVe file and store the embeddings\n",
        "with open('glove.6B.200d.txt', 'r', encoding='utf-8') as f:\n",
        "    for line in f:\n",
        "        values = line.split()\n",
        "        word = values[0]\n",
        "        embedding = np.asarray(values[1:], dtype='float32')\n",
        "        embeddings_index[word] = embedding"
      ],
      "metadata": {
        "id": "fnuY1dvp0IMm"
      },
      "execution_count": null,
      "outputs": []
    },
    {
      "cell_type": "code",
      "source": [
        "# Making embedding matrix\n",
        "embedding_matrix = np.zeros((len(word_index) + 1, embedding_dim))\n",
        "for word, i in word_index.items():\n",
        "    embedding_vector = embeddings_index.get(word)\n",
        "    if embedding_vector is not None:\n",
        "        embedding_matrix[i] = embedding_vector"
      ],
      "metadata": {
        "id": "lz3bFzLPqhdI"
      },
      "execution_count": null,
      "outputs": []
    },
    {
      "cell_type": "code",
      "source": [
        "# Object RNN model defintion\n",
        "class RNNModel:\n",
        "    def __init__(self, word_index, embedding_matrix, embedding_dim=200, max_sequence_length=100):\n",
        "        # Initialize the parameters required for the model\n",
        "        self.word_index = word_index\n",
        "        self.embedding_matrix = embedding_matrix\n",
        "        self.embedding_dim = embedding_dim\n",
        "        self.max_sequence_length = max_sequence_length\n",
        "        self.model = self.build_model()\n",
        "\n",
        "    def build_model(self):\n",
        "        # Build the RNN model\n",
        "        model = Sequential()\n",
        "        # Add the embedding layer with pre-trained GloVe embeddings\n",
        "        model.add(Embedding(len(self.word_index) + 1, self.embedding_dim,\n",
        "                            weights=[self.embedding_matrix], input_length=self.max_sequence_length,\n",
        "                            trainable=False))\n",
        "\n",
        "        # Add SimpleRNN layer\n",
        "        model.add(SimpleRNN(25, dropout=0.0, recurrent_dropout=0.0))\n",
        "\n",
        "        # Add the output layer with a sigmoid activation for binary classification\n",
        "        model.add(Dense(1, activation='sigmoid'))\n",
        "\n",
        "        # Compile the model\n",
        "        model.compile(loss='binary_crossentropy', optimizer='adam', metrics=['accuracy'])\n",
        "\n",
        "        return model\n",
        "\n",
        "    def get_model(self):\n",
        "        # Return the built model\n",
        "        return self.model\n"
      ],
      "metadata": {
        "id": "slYaRUgbwthf"
      },
      "execution_count": null,
      "outputs": []
    },
    {
      "cell_type": "code",
      "source": [
        "rnn_model = RNNModel(word_index, embedding_matrix, embedding_dim=200, max_sequence_length=100)\n",
        "\n",
        "# Get the model\n",
        "sentiment_model = rnn_model.get_model()\n",
        "\n",
        "#preprocess training data\n",
        "input_train, desired_op_train = preprocess(df_ip_train)\n",
        "\n",
        "# train model\n",
        "sentiment_model.fit(input_train, desired_op_train, epochs=5, batch_size=64)"
      ],
      "metadata": {
        "colab": {
          "base_uri": "https://localhost:8080/"
        },
        "id": "44qss0Rlw6eJ",
        "outputId": "2d1443d3-a27d-4bfd-95b9-faa7f6fbdde2"
      },
      "execution_count": null,
      "outputs": [
        {
          "output_type": "stream",
          "name": "stderr",
          "text": [
            "/usr/local/lib/python3.11/dist-packages/keras/src/layers/core/embedding.py:90: UserWarning: Argument `input_length` is deprecated. Just remove it.\n",
            "  warnings.warn(\n"
          ]
        },
        {
          "output_type": "stream",
          "name": "stdout",
          "text": [
            "Epoch 1/5\n",
            "\u001b[1m88/88\u001b[0m \u001b[32m━━━━━━━━━━━━━━━━━━━━\u001b[0m\u001b[37m\u001b[0m \u001b[1m7s\u001b[0m 48ms/step - accuracy: 0.8423 - loss: 0.3970\n",
            "Epoch 2/5\n",
            "\u001b[1m88/88\u001b[0m \u001b[32m━━━━━━━━━━━━━━━━━━━━\u001b[0m\u001b[37m\u001b[0m \u001b[1m3s\u001b[0m 30ms/step - accuracy: 0.9359 - loss: 0.2160\n",
            "Epoch 3/5\n",
            "\u001b[1m88/88\u001b[0m \u001b[32m━━━━━━━━━━━━━━━━━━━━\u001b[0m\u001b[37m\u001b[0m \u001b[1m2s\u001b[0m 24ms/step - accuracy: 0.9365 - loss: 0.1864\n",
            "Epoch 4/5\n",
            "\u001b[1m88/88\u001b[0m \u001b[32m━━━━━━━━━━━━━━━━━━━━\u001b[0m\u001b[37m\u001b[0m \u001b[1m2s\u001b[0m 27ms/step - accuracy: 0.9473 - loss: 0.1533\n",
            "Epoch 5/5\n",
            "\u001b[1m88/88\u001b[0m \u001b[32m━━━━━━━━━━━━━━━━━━━━\u001b[0m\u001b[37m\u001b[0m \u001b[1m3s\u001b[0m 29ms/step - accuracy: 0.9522 - loss: 0.1443\n"
          ]
        },
        {
          "output_type": "execute_result",
          "data": {
            "text/plain": [
              "<keras.src.callbacks.history.History at 0x7d32d5887090>"
            ]
          },
          "metadata": {},
          "execution_count": 11
        }
      ]
    },
    {
      "cell_type": "code",
      "source": [
        "df_test = pd.read_csv(\"/content/drive/MyDrive/Sentiment_data/test.csv\")\n",
        "print(df_test.shape)\n",
        "input_test, desired_op_test = preprocess(df_test)\n",
        "loss, accuracy = sentiment_model.evaluate(input_test, desired_op_test)\n",
        "print( loss, accuracy)"
      ],
      "metadata": {
        "colab": {
          "base_uri": "https://localhost:8080/"
        },
        "id": "lXXGUWvhzE26",
        "outputId": "b5c2b752-0e4c-433b-b4b6-0ce2113bb9ba"
      },
      "execution_count": null,
      "outputs": [
        {
          "output_type": "stream",
          "name": "stdout",
          "text": [
            "(1400, 3)\n",
            "\u001b[1m44/44\u001b[0m \u001b[32m━━━━━━━━━━━━━━━━━━━━\u001b[0m\u001b[37m\u001b[0m \u001b[1m1s\u001b[0m 11ms/step - accuracy: 0.9427 - loss: 0.1895\n",
            "0.20046718418598175 0.9392856955528259\n"
          ]
        }
      ]
    }
  ]
}